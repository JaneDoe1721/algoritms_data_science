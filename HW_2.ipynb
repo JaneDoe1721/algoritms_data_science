{
 "cells": [
  {
   "cell_type": "code",
   "execution_count": 2,
   "metadata": {},
   "outputs": [],
   "source": [
    "import numpy as np\n",
    "import matplotlib.pyplot as plt"
   ]
  },
  {
   "cell_type": "code",
   "execution_count": 4,
   "metadata": {},
   "outputs": [],
   "source": [
    "X = np.array([[1, 1, 1, 1, 1, 1, 1, 1, 1, 1],\n",
    "              [1, 1, 2, 1, 3, 0, 5, 10, 1, 2],  # стаж\n",
    "              [500, 700, 750, 600, 1450,        # средняя стоимость занятия\n",
    "               800, 1500, 2000, 450, 1000],\n",
    "              [1, 1, 2, 1, 2, 1, 3, 3, 1, 2]])\n",
    "\n",
    "y = [45, 55, 50, 59, 65, 35, 75, 80, 50, 60]"
   ]
  },
  {
   "cell_type": "code",
   "execution_count": 6,
   "metadata": {},
   "outputs": [],
   "source": [
    "def calc_std_feet(x):\n",
    "    return (x - x.mean()) / x.std()"
   ]
  },
  {
   "cell_type": "code",
   "execution_count": 36,
   "metadata": {},
   "outputs": [],
   "source": [
    "X_st = X.copy().astype(np.float64)\n",
    "\n",
    "X_st[1] = calc_std_feet(X[1])\n",
    "X_st[2] = calc_std_feet(X[2])\n",
    "X_st[3] = calc_std_feet(X[3])\n"
   ]
  },
  {
   "cell_type": "code",
   "execution_count": 79,
   "metadata": {},
   "outputs": [],
   "source": [
    "def calc_mse(y, y_pred):\n",
    "    return np.mean((y - y_pred) ** 2)\n",
    "\n",
    "def eval_model_reg2(X, y, iterations, alpha=1e-4, lambda_=1e-8):\n",
    "    np.random.seed(42)\n",
    "    W = np.random.randn(X.shape[0])\n",
    "    n = X.shape[1]\n",
    "    for i in range(1, iterations + 1):\n",
    "        y_pred = (W @ X)\n",
    "        err = calc_mse(y, y_pred)\n",
    "        W -= alpha * (1/n * 2 * np.dot((y_pred - y), X.T) + 2 * lambda_ * W)\n",
    "        if i % (iterations / 12) == 0:\n",
    "            print(i, W, err)\n",
    "    return W,err\n",
    "        "
   ]
  },
  {
   "cell_type": "code",
   "execution_count": 84,
   "metadata": {},
   "outputs": [
    {
     "name": "stdout",
     "output_type": "stream",
     "text": [
      "100 [10.81977943  1.29188479  1.98326638  2.85123887] 2248.174495966113\n",
      "200 [19.26820475  2.14025079  2.73257885  3.60272972] 1510.52005056178\n",
      "300 [26.18241951  2.65414327  3.14578694  4.02368617] 1022.7641434294361\n",
      "400 [31.84103209  2.97547956  3.36642337  4.25535143] 698.0693104166692\n",
      "500 [36.47205635  3.18570474  3.47683987  4.37875637] 481.18204747799444\n",
      "600 [40.26209948  3.33156577  3.52428387  4.44038363] 336.04984524294935\n",
      "700 [43.36388132  3.43990014  3.53586071  4.46689313] 238.83798105676905\n",
      "800 [45.90238819  3.52612135  3.5271187   4.47357128] 173.68373121426245\n",
      "900 [47.97990927  3.59908764  3.50697503  4.46917888] 129.99460131981883\n",
      "1000 [49.68015829  3.66389563  3.48054215  4.45873282] 100.68542522258228\n",
      "1100 [51.07164682  3.72348325  3.45074946  4.44510211] 81.01293843814851\n",
      "1200 [52.2104449   3.77954947  3.41927386  4.42992361] 67.80021071466908\n"
     ]
    },
    {
     "data": {
      "text/plain": [
       "(array([52.2104449 ,  3.77954947,  3.41927386,  4.42992361]),\n",
       " 67.80021071466908)"
      ]
     },
     "execution_count": 84,
     "metadata": {},
     "output_type": "execute_result"
    }
   ],
   "source": [
    "W,err = eval_model_reg2(X_st, y, iterations=1200, alpha=1e-3, lambda_=0.001)\n",
    "W,err"
   ]
  },
  {
   "cell_type": "markdown",
   "metadata": {},
   "source": [
    "1. Постройте график зависимости весов всех признаков от lambda в L2-регуляризации (на данных из урока). "
   ]
  },
  {
   "cell_type": "code",
   "execution_count": 86,
   "metadata": {},
   "outputs": [
    {
     "data": {
      "image/png": "[encoded data removed]",
      "text/plain": [
       "<Figure size 576x360 with 1 Axes>"
      ]
     },
     "metadata": {
      "needs_background": "light"
     },
     "output_type": "display_data"
    }
   ],
   "source": [
    "\n",
    "plt.figure(figsize=(8, 5))\n",
    "plt.plot(W,linewidth=2.0, color='r')\n",
    "plt.xlabel('X')\n",
    "plt.ylabel('W')\n",
    "plt.show()\n"
   ]
  },
  {
   "cell_type": "markdown",
   "metadata": {},
   "source": [
    "2. Можно ли к одному и тому же признаку применить сразу и нормализацию, и стандартизацию? "
   ]
  },
  {
   "cell_type": "code",
   "execution_count": 64,
   "metadata": {},
   "outputs": [
    {
     "name": "stdout",
     "output_type": "stream",
     "text": [
      "[0.  0.  0.5 0.  0.5 0.  1.  1.  0.  0.5]\n",
      "[-0.89625816 -0.89625816  0.38411064 -0.89625816  0.38411064 -0.89625816\n",
      "  1.66447944  1.66447944 -0.89625816  0.38411064]\n"
     ]
    },
    {
     "data": {
      "text/plain": [
       "(8.326672684688674e-17, 1.0)"
      ]
     },
     "execution_count": 64,
     "metadata": {},
     "output_type": "execute_result"
    }
   ],
   "source": [
    "X_norm_st = X.copy().astype(np.float64)\n",
    "\n",
    "# нормализация\n",
    "X_norm_st[3] = (X[3] - X[3].min()) / (X[3].max() - X[3].min())\n",
    "print(X_norm_st[3])\n",
    "# стандартизация\n",
    "X_norm_st[3] = (X_norm_st[3] - X_norm_st[3].mean()) / X_norm_st[3].std()\n",
    "print(X_norm_st[3])\n",
    "# результаты стандартизации \n",
    "X_norm_st[3].mean(), X_norm_st[3].std()\n",
    "\n",
    "# Можно применять к одному признаку нормализацию и стандартизацию. Но результат не меняеться."
   ]
  },
  {
   "cell_type": "markdown",
   "metadata": {},
   "source": [
    "3.Напишите функцию наподобие eval_model_reg2, но для применения L1-регуляризации."
   ]
  },
  {
   "cell_type": "code",
   "execution_count": 49,
   "metadata": {},
   "outputs": [],
   "source": [
    "def eval_model_reg1(X, y, iterations, alpha=1e-4, lambda_=1e-8):\n",
    "    np.random.seed(42)\n",
    "    W = np.random.randn(X.shape[0])\n",
    "    n = X.shape[1]\n",
    "    for i in range(1, iterations + 1):\n",
    "        y_pred = (W @ X)\n",
    "        err = calc_mse(y, y_pred)\n",
    "        W -= alpha * (1/n * 2 * np.dot((y_pred - y), X.T) + lambda_ * np.abs(W))\n",
    "        if i % (iterations / 12) == 0:\n",
    "            print(i, W, err)\n",
    "    return W"
   ]
  },
  {
   "cell_type": "code",
   "execution_count": 50,
   "metadata": {},
   "outputs": [
    {
     "name": "stdout",
     "output_type": "stream",
     "text": [
      "100 [10.82031926  1.29192036  1.98337578  2.85143449] 2248.1216398060124\n",
      "200 [19.270033    2.14036214  2.73282431  3.60314606] 1510.3771525228124\n",
      "300 [26.18599516  2.6543227   3.14614835  4.02430243] 1022.5379422660177\n",
      "400 [31.84660498  2.97570669  3.3668683   4.25613478] 697.7823588689172\n",
      "500 [36.47972801  3.18595996  3.47733713  4.37967533] 480.85963084927096\n",
      "600 [40.27186873  3.33183446  3.52480779  4.44141226] 335.7142303148755\n",
      "700 [43.37567823  3.44017314  3.53639156  4.46801143] 238.5064123951738\n",
      "800 [45.91609908  3.526394    3.5276418   4.47476426] 173.36828293358906\n",
      "900 [47.99539491  3.59935867  3.5074795   4.47043543] 129.7028508590479\n",
      "1000 [49.69726691  3.66416608  3.48101986  4.46004461] 100.42139697610136\n",
      "1100 [51.09022326  3.7237557   3.45119422  4.44646274] 80.77804128868218\n",
      "1200 [52.23033684  3.77982739  3.41968079  4.43132808] 67.59404890866595\n"
     ]
    },
    {
     "data": {
      "text/plain": [
       "array([52.23033684,  3.77982739,  3.41968079,  4.43132808])"
      ]
     },
     "execution_count": 50,
     "metadata": {},
     "output_type": "execute_result"
    }
   ],
   "source": [
    "eval_model_reg1(X_st, y, iterations=1200, alpha=1e-3, lambda_=0.001)"
   ]
  },
  {
   "cell_type": "code",
   "execution_count": null,
   "metadata": {},
   "outputs": [],
   "source": []
  }
 ],
 "metadata": {
  "kernelspec": {
   "display_name": "Python 3",
   "language": "python",
   "name": "python3"
  },
  "language_info": {
   "codemirror_mode": {
    "name": "ipython",
    "version": 3
   },
   "file_extension": ".py",
   "mimetype": "text/x-python",
   "name": "python",
   "nbconvert_exporter": "python",
   "pygments_lexer": "ipython3",
   "version": "3.8.3"
  }
 },
 "nbformat": 4,
 "nbformat_minor": 4
}
