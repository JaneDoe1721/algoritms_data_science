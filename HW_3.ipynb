{
 "cells": [
  {
   "cell_type": "code",
   "execution_count": 460,
   "metadata": {},
   "outputs": [],
   "source": [
    "import numpy as np\n",
    "import matplotlib.pyplot as plt\n",
    "import seaborn as sns\n",
    "import pandas as pd\n",
    "from sklearn import metrics\n",
    "sns.set(style='whitegrid')\n",
    "sns.set_context('paper',font_scale=2 )"
   ]
  },
  {
   "cell_type": "code",
   "execution_count": 461,
   "metadata": {},
   "outputs": [],
   "source": [
    "%matplotlib inline\n",
    "plt.style.use('seaborn-ticks')\n",
    "plt.rcParams.update({'font.size': 14})"
   ]
  },
  {
   "cell_type": "code",
   "execution_count": 462,
   "metadata": {},
   "outputs": [],
   "source": [
    "X = np.array([[1, 1, 1, 1, 1, 1, 1, 1, 1, 1],\n",
    "              [1, 1, 2, 1, 3, 0, 5, 10, 1, 2],  \n",
    "              [500, 700, 750, 600, 1450,        \n",
    "               800, 1500, 2000, 450, 1000],\n",
    "              [1, 1, 2, 1, 2, 1, 3, 3, 1, 2]], dtype = np.float64) # квалификация репетитора\n",
    "\n",
    "y = np.array([0, 0, 1, 0, 1, 0, 1, 0, 1, 1]) "
   ]
  },
  {
   "cell_type": "code",
   "execution_count": 463,
   "metadata": {},
   "outputs": [
    {
     "data": {
      "text/plain": [
       "array([-0.97958969, -0.56713087, -0.46401617, -0.77336028,  0.97958969,\n",
       "       -0.36090146,  1.08270439,  2.11385144, -1.08270439,  0.05155735])"
      ]
     },
     "execution_count": 463,
     "metadata": {},
     "output_type": "execute_result"
    }
   ],
   "source": [
    "def calc_std_feet(x):\n",
    "    return (x - x.mean()) / x.std()\n",
    "\n",
    "X_st = X.copy()\n",
    "X_st[2, :] = calc_std_feet(X[2, :])\n",
    "X_st[2]"
   ]
  },
  {
   "cell_type": "markdown",
   "metadata": {},
   "source": [
    "1.*Измените функцию calc_logloss так, чтобы нули по возможности не попадали в np.log (как вариант - np.clip). "
   ]
  },
  {
   "cell_type": "code",
   "execution_count": 464,
   "metadata": {},
   "outputs": [],
   "source": [
    "def calc_logloss(y, y_pred):\n",
    "    return np.mean(- y * np.log(np.clip(y_pred, 1e-7, np.inf) - (1.0 - y) * np.log(1.0 - np.clip(y_pred, 1e-7, np.inf))))"
   ]
  },
  {
   "cell_type": "code",
   "execution_count": 13,
   "metadata": {},
   "outputs": [
    {
     "data": {
      "text/plain": [
       "11.512925464970229"
      ]
     },
     "execution_count": 13,
     "metadata": {},
     "output_type": "execute_result"
    }
   ],
   "source": [
    "y_true = 1\n",
    "y_pred = 0\n",
    "calc_logloss(y_true, y_pred)"
   ]
  },
  {
   "cell_type": "markdown",
   "metadata": {},
   "source": [
    "2.Подберите аргументы функции eval_LR_model для логистической регрессии таким образом, чтобы log loss был минимальным."
   ]
  },
  {
   "cell_type": "code",
   "execution_count": 465,
   "metadata": {},
   "outputs": [],
   "source": [
    "def sigmoid(z):\n",
    "    return 1 / (1 + np.exp(-z))"
   ]
  },
  {
   "cell_type": "code",
   "execution_count": 489,
   "metadata": {},
   "outputs": [],
   "source": [
    "errors = []\n",
    "def eval_LR_model(X, y, iterations, alpha=1e-4):\n",
    "    np.random.seed(42)\n",
    "    w = np.random.randn(X.shape[0])\n",
    "    n = X.shape[1]\n",
    "    for i in range(1, iterations + 1):\n",
    "        z = np.dot(w, X)\n",
    "        y_pred = sigmoid(z)\n",
    "        err = calc_logloss(y, y_pred)\n",
    "        errors.append(err)\n",
    "        w -= alpha * (1/n * np.dot((y_pred - y), X.T))\n",
    "        if i % (iterations / 10) == 0:\n",
    "            print(i, w, err)\n",
    "    return w\n",
    "        "
   ]
  },
  {
   "cell_type": "code",
   "execution_count": 490,
   "metadata": {},
   "outputs": [
    {
     "name": "stdout",
     "output_type": "stream",
     "text": [
      "100 [-0.74230172 -0.83816982  1.11827081  1.82027932] 0.23080456731116866\n",
      "200 [-1.43218741 -0.93582867  1.01515986  2.37819891] 0.22111609988204414\n",
      "300 [-2.04822538 -0.97482428  0.83109536  2.80343982] 0.21348546022039497\n",
      "400 [-2.60206071 -0.99224882  0.63105353  3.16087975] 0.20699585179493935\n",
      "500 [-3.10258008 -1.00238663  0.43827025  3.47793906] 0.2014358368876724\n",
      "600 [-3.55744346 -1.01081275  0.26023343  3.76747865] 0.19665901638362715\n",
      "700 [-3.97331712 -1.01955004  0.09817452  4.0361776 ] 0.19252464504621808\n",
      "800 [-4.35592401 -1.02917946 -0.04901499  4.28794333] 0.1889075624321873\n",
      "900 [-4.71010863 -1.03973151 -0.18314174  4.52536739] 0.185704643193196\n",
      "1000 [-5.03993389 -1.0510568  -0.30605358  4.75036153] 0.18283441411090015\n"
     ]
    }
   ],
   "source": [
    "w = eval_LR_model(X_st, y, iterations=1000, alpha=231e-3)"
   ]
  },
  {
   "cell_type": "code",
   "execution_count": 468,
   "metadata": {},
   "outputs": [
    {
     "data": {
      "image/png": "[encoded data removed]",
      "text/plain": [
       "<Figure size 432x288 with 1 Axes>"
      ]
     },
     "metadata": {},
     "output_type": "display_data"
    }
   ],
   "source": [
    "plt.plot(range(len(errors)), errors)\n",
    "plt.xlabel('Era')\n",
    "plt.ylabel('Error')\n",
    "plt.show()\n"
   ]
  },
  {
   "cell_type": "code",
   "execution_count": 469,
   "metadata": {},
   "outputs": [
    {
     "name": "stderr",
     "output_type": "stream",
     "text": [
      "<ipython-input-464-960e4472c13d>:2: RuntimeWarning: divide by zero encountered in log\n",
      "  return np.mean(- y * np.log(np.clip(y_pred, 1e-7, np.inf) - (1.0 - y) * np.log(1.0 - np.clip(y_pred, 1e-7, np.inf))))\n",
      "<ipython-input-464-960e4472c13d>:2: RuntimeWarning: invalid value encountered in multiply\n",
      "  return np.mean(- y * np.log(np.clip(y_pred, 1e-7, np.inf) - (1.0 - y) * np.log(1.0 - np.clip(y_pred, 1e-7, np.inf))))\n",
      "<ipython-input-464-960e4472c13d>:2: RuntimeWarning: invalid value encountered in log\n",
      "  return np.mean(- y * np.log(np.clip(y_pred, 1e-7, np.inf) - (1.0 - y) * np.log(1.0 - np.clip(y_pred, 1e-7, np.inf))))\n",
      "<ipython-input-465-dc64dee5606b>:2: RuntimeWarning: overflow encountered in exp\n",
      "  return 1 / (1 + np.exp(-z))\n"
     ]
    }
   ],
   "source": [
    "result = pandas.DataFrame(columns=['error', 'alpha'])\n",
    "n = X.shape[1]\n",
    "\n",
    "for alpha in np.arange(1e-4, 1e-1, 1e-3):\n",
    "    w = np.random.randn(X.shape[0])\n",
    "    err_prev = np.inf\n",
    "    error = 0\n",
    "    \n",
    "    while np.abs(err_prev - error) >= 1e-4:\n",
    "        z = np.dot(w, X)\n",
    "        y_pred = sigmoid(z)\n",
    "        err_prev = calc_logloss(y, y_pred)\n",
    "        w -= alpha * (1/n * np.dot((y_pred - y), X.T))\n",
    "        error = calc_logloss(y, (w @ X))\n",
    "        \n",
    "        if error > err_prev:\n",
    "            break\n",
    "            \n",
    "    \n",
    "    result = result.append({'alpha': alpha, 'error': err_prev}, ignore_index=True)\n",
    "    \n"
   ]
  },
  {
   "cell_type": "code",
   "execution_count": 470,
   "metadata": {},
   "outputs": [
    {
     "data": {
      "image/png": "[encoded data removed]",
      "text/plain": [
       "<Figure size 432x288 with 2 Axes>"
      ]
     },
     "metadata": {},
     "output_type": "display_data"
    }
   ],
   "source": [
    "result_fix = result.loc[(result['error'] < 50)]\n",
    "\n",
    "fig, ax1 = plt.subplots()\n",
    "ax1.twinx()\n",
    "ax1.plot(result_fix['alpha'], result_fix['error'], 'r--')\n",
    "ax1.set_xlabel('Alpha')\n",
    "ax1.set_ylabel('Error', color='r')\n",
    "plt.show()"
   ]
  },
  {
   "cell_type": "code",
   "execution_count": 471,
   "metadata": {},
   "outputs": [
    {
     "data": {
      "text/html": [
       "<div>\n",
       "<style scoped>\n",
       "    .dataframe tbody tr th:only-of-type {\n",
       "        vertical-align: middle;\n",
       "    }\n",
       "\n",
       "    .dataframe tbody tr th {\n",
       "        vertical-align: top;\n",
       "    }\n",
       "\n",
       "    .dataframe thead th {\n",
       "        text-align: right;\n",
       "    }\n",
       "</style>\n",
       "<table border=\"1\" class=\"dataframe\">\n",
       "  <thead>\n",
       "    <tr style=\"text-align: right;\">\n",
       "      <th></th>\n",
       "      <th>error</th>\n",
       "      <th>alpha</th>\n",
       "    </tr>\n",
       "  </thead>\n",
       "  <tbody>\n",
       "    <tr>\n",
       "      <th>count</th>\n",
       "      <td>47.000000</td>\n",
       "      <td>100.000000</td>\n",
       "    </tr>\n",
       "    <tr>\n",
       "      <th>mean</th>\n",
       "      <td>7.655432</td>\n",
       "      <td>0.049600</td>\n",
       "    </tr>\n",
       "    <tr>\n",
       "      <th>std</th>\n",
       "      <td>1.654619</td>\n",
       "      <td>0.029011</td>\n",
       "    </tr>\n",
       "    <tr>\n",
       "      <th>min</th>\n",
       "      <td>0.008990</td>\n",
       "      <td>0.000100</td>\n",
       "    </tr>\n",
       "    <tr>\n",
       "      <th>25%</th>\n",
       "      <td>8.059048</td>\n",
       "      <td>0.024850</td>\n",
       "    </tr>\n",
       "    <tr>\n",
       "      <th>50%</th>\n",
       "      <td>8.059048</td>\n",
       "      <td>0.049600</td>\n",
       "    </tr>\n",
       "    <tr>\n",
       "      <th>75%</th>\n",
       "      <td>8.059048</td>\n",
       "      <td>0.074350</td>\n",
       "    </tr>\n",
       "    <tr>\n",
       "      <th>max</th>\n",
       "      <td>8.059048</td>\n",
       "      <td>0.099100</td>\n",
       "    </tr>\n",
       "  </tbody>\n",
       "</table>\n",
       "</div>"
      ],
      "text/plain": [
       "           error       alpha\n",
       "count  47.000000  100.000000\n",
       "mean    7.655432    0.049600\n",
       "std     1.654619    0.029011\n",
       "min     0.008990    0.000100\n",
       "25%     8.059048    0.024850\n",
       "50%     8.059048    0.049600\n",
       "75%     8.059048    0.074350\n",
       "max     8.059048    0.099100"
      ]
     },
     "execution_count": 471,
     "metadata": {},
     "output_type": "execute_result"
    }
   ],
   "source": [
    "result.describe()"
   ]
  },
  {
   "cell_type": "code",
   "execution_count": 472,
   "metadata": {},
   "outputs": [
    {
     "data": {
      "text/html": [
       "<div>\n",
       "<style scoped>\n",
       "    .dataframe tbody tr th:only-of-type {\n",
       "        vertical-align: middle;\n",
       "    }\n",
       "\n",
       "    .dataframe tbody tr th {\n",
       "        vertical-align: top;\n",
       "    }\n",
       "\n",
       "    .dataframe thead th {\n",
       "        text-align: right;\n",
       "    }\n",
       "</style>\n",
       "<table border=\"1\" class=\"dataframe\">\n",
       "  <thead>\n",
       "    <tr style=\"text-align: right;\">\n",
       "      <th></th>\n",
       "      <th>error</th>\n",
       "      <th>alpha</th>\n",
       "    </tr>\n",
       "  </thead>\n",
       "  <tbody>\n",
       "    <tr>\n",
       "      <th>23</th>\n",
       "      <td>0.00899</td>\n",
       "      <td>0.0231</td>\n",
       "    </tr>\n",
       "  </tbody>\n",
       "</table>\n",
       "</div>"
      ],
      "text/plain": [
       "      error   alpha\n",
       "23  0.00899  0.0231"
      ]
     },
     "execution_count": 472,
     "metadata": {},
     "output_type": "execute_result"
    }
   ],
   "source": [
    "result.loc[(result['error'] == result['error'].min())]"
   ]
  },
  {
   "cell_type": "code",
   "execution_count": 473,
   "metadata": {},
   "outputs": [
    {
     "data": {
      "text/html": [
       "<div>\n",
       "<style scoped>\n",
       "    .dataframe tbody tr th:only-of-type {\n",
       "        vertical-align: middle;\n",
       "    }\n",
       "\n",
       "    .dataframe tbody tr th {\n",
       "        vertical-align: top;\n",
       "    }\n",
       "\n",
       "    .dataframe thead th {\n",
       "        text-align: right;\n",
       "    }\n",
       "</style>\n",
       "<table border=\"1\" class=\"dataframe\">\n",
       "  <thead>\n",
       "    <tr style=\"text-align: right;\">\n",
       "      <th></th>\n",
       "      <th>error</th>\n",
       "      <th>alpha</th>\n",
       "    </tr>\n",
       "  </thead>\n",
       "  <tbody>\n",
       "    <tr>\n",
       "      <th>23</th>\n",
       "      <td>0.008990</td>\n",
       "      <td>0.0231</td>\n",
       "    </tr>\n",
       "    <tr>\n",
       "      <th>81</th>\n",
       "      <td>5.865714</td>\n",
       "      <td>0.0811</td>\n",
       "    </tr>\n",
       "    <tr>\n",
       "      <th>99</th>\n",
       "      <td>0.096933</td>\n",
       "      <td>0.0991</td>\n",
       "    </tr>\n",
       "  </tbody>\n",
       "</table>\n",
       "</div>"
      ],
      "text/plain": [
       "       error   alpha\n",
       "23  0.008990  0.0231\n",
       "81  5.865714  0.0811\n",
       "99  0.096933  0.0991"
      ]
     },
     "execution_count": 473,
     "metadata": {},
     "output_type": "execute_result"
    }
   ],
   "source": [
    "result.loc[(result['alpha'] > 0.002) & (result['error'] <= result['error'].quantile(0.05))]"
   ]
  },
  {
   "cell_type": "code",
   "execution_count": 474,
   "metadata": {},
   "outputs": [
    {
     "name": "stdout",
     "output_type": "stream",
     "text": [
      "0.0231\n"
     ]
    }
   ],
   "source": [
    "# минимальное значение alpha 231e-4\n",
    "print(231e-4)"
   ]
  },
  {
   "cell_type": "markdown",
   "metadata": {},
   "source": [
    "3.Создайте функцию calc_pred_proba, возвращающую предсказанную вероятность класса 1 (на вход подаются веса, которые уже посчитаны функцией eval_LR_model и X, на выходе - массив y_pred_proba)."
   ]
  },
  {
   "cell_type": "code",
   "execution_count": 475,
   "metadata": {},
   "outputs": [],
   "source": [
    "def calc_pred_proba(w, X):\n",
    "    \n",
    "    m = X.shape[1]\n",
    "    \n",
    "    y_pred_proba = []\n",
    "    w = w.reshape(X.shape[0], 1)\n",
    "    \n",
    "    A = sigmoid((w.T @ X))\n",
    "    \n",
    "    for i in range(A.shape[1]):\n",
    "        if (A[:,i] > 0.5): \n",
    "            y_pred_proba.append(f'Номер объекта: {i},  предсказание класса: {1}')\n",
    "    \n",
    "    return y_pred_proba"
   ]
  },
  {
   "cell_type": "code",
   "execution_count": 476,
   "metadata": {},
   "outputs": [
    {
     "data": {
      "text/plain": [
       "['Номер объекта: 0,  предсказание класса: 1',\n",
       " 'Номер объекта: 1,  предсказание класса: 1',\n",
       " 'Номер объекта: 2,  предсказание класса: 1',\n",
       " 'Номер объекта: 3,  предсказание класса: 1',\n",
       " 'Номер объекта: 5,  предсказание класса: 1',\n",
       " 'Номер объекта: 8,  предсказание класса: 1']"
      ]
     },
     "execution_count": 476,
     "metadata": {},
     "output_type": "execute_result"
    }
   ],
   "source": [
    "calc_pred_proba(w, X_st)"
   ]
  },
  {
   "cell_type": "markdown",
   "metadata": {},
   "source": [
    "4.Создайте функцию calc_pred, возвращающую предсказанный класс (на вход подаются веса, которые уже посчитаны функцией eval_LR_model и X, на выходе - массив y_pred)."
   ]
  },
  {
   "cell_type": "code",
   "execution_count": 491,
   "metadata": {},
   "outputs": [],
   "source": [
    "y_predicted = []\n",
    "\n",
    "def calc_pred(w, X):\n",
    "    \n",
    "    m = X.shape[1]\n",
    "    \n",
    "    y_pred = []\n",
    "    w = w.reshape(X.shape[0], 1)\n",
    "    \n",
    "    A = sigmoid((w.T @ X))\n",
    "    \n",
    "    for i in range(A.shape[1]):\n",
    "        if (A[:,i] > 0.5):\n",
    "            y_predicted.append(1)\n",
    "            y_pred.append(f'Предсказание класса: {1}')\n",
    "        elif (A[:, i] < 0.5):\n",
    "            y_predicted.append(0)\n",
    "            y_pred.append(f'Предсказание класса: {0}')\n",
    "            \n",
    "    return y_pred"
   ]
  },
  {
   "cell_type": "code",
   "execution_count": 492,
   "metadata": {},
   "outputs": [
    {
     "data": {
      "text/plain": [
       "['Предсказание класса: 0',\n",
       " 'Предсказание класса: 0',\n",
       " 'Предсказание класса: 1',\n",
       " 'Предсказание класса: 0',\n",
       " 'Предсказание класса: 1',\n",
       " 'Предсказание класса: 0',\n",
       " 'Предсказание класса: 1',\n",
       " 'Предсказание класса: 0',\n",
       " 'Предсказание класса: 0',\n",
       " 'Предсказание класса: 1']"
      ]
     },
     "execution_count": 492,
     "metadata": {},
     "output_type": "execute_result"
    }
   ],
   "source": [
    "calc_pred(w, X_st)"
   ]
  },
  {
   "cell_type": "markdown",
   "metadata": {},
   "source": [
    "5.Посчитайте accuracy, матрицу ошибок, precision и recall, а также F1-score."
   ]
  },
  {
   "cell_type": "code",
   "execution_count": 493,
   "metadata": {},
   "outputs": [
    {
     "name": "stdout",
     "output_type": "stream",
     "text": [
      "Классификационная оценка точности (accuracy) =  0.9\n"
     ]
    }
   ],
   "source": [
    "print(f'Классификационная оценка точности (accuracy) =  {metrics.accuracy_score(y, y_predicted, normalize=True)}')\n"
   ]
  },
  {
   "cell_type": "code",
   "execution_count": 494,
   "metadata": {},
   "outputs": [
    {
     "name": "stdout",
     "output_type": "stream",
     "text": [
      "Точность (precision) = 1.0\n"
     ]
    }
   ],
   "source": [
    "print(f'Точность (precision) = {metrics.precision_score(y, y_predicted)}')"
   ]
  },
  {
   "cell_type": "code",
   "execution_count": 495,
   "metadata": {},
   "outputs": [
    {
     "name": "stdout",
     "output_type": "stream",
     "text": [
      "Полнота (recall) = 0.8\n"
     ]
    }
   ],
   "source": [
    "print(f'Полнота (recall) = {metrics.recall_score(y, y_predicted)}')"
   ]
  },
  {
   "cell_type": "code",
   "execution_count": 496,
   "metadata": {},
   "outputs": [
    {
     "name": "stdout",
     "output_type": "stream",
     "text": [
      "Матрица ошибок (confusion_matrix) = \n",
      "[[5 0]\n",
      " [1 4]]\n"
     ]
    }
   ],
   "source": [
    "print(f'Матрица ошибок (confusion_matrix) = \\n{metrics.confusion_matrix(y, y_predicted)}')"
   ]
  },
  {
   "cell_type": "code",
   "execution_count": 497,
   "metadata": {},
   "outputs": [
    {
     "data": {
      "image/png": "[encoded data removed]",
      "text/plain": [
       "<Figure size 576x576 with 2 Axes>"
      ]
     },
     "metadata": {},
     "output_type": "display_data"
    }
   ],
   "source": [
    "cm = metrics.confusion_matrix(y, y_predicted)\n",
    "\n",
    "cmn = cm.astype('float')  \n",
    "cm.sum(axis=1)[:, np.newaxis]\n",
    "fig, ax = plt.subplots(figsize=(8,8))\n",
    "sns.heatmap(cmn, annot=True, fmt='.2f')\n",
    "plt.ylabel('Actual')\n",
    "plt.xlabel('Predicted')\n",
    "plt.show(block=False)"
   ]
  },
  {
   "cell_type": "code",
   "execution_count": 498,
   "metadata": {},
   "outputs": [
    {
     "name": "stdout",
     "output_type": "stream",
     "text": [
      "F1-score = 0.888888888888889\n"
     ]
    }
   ],
   "source": [
    "print(f'F1-score = {metrics.f1_score(y, y_predicted)}')"
   ]
  },
  {
   "cell_type": "markdown",
   "metadata": {},
   "source": [
    "6.Могла ли модель переобучиться? Почему?"
   ]
  },
  {
   "cell_type": "markdown",
   "metadata": {},
   "source": [
    "Важно правильно подобрать скорость обучения(шаг).\n",
    "Модель могла переобучиться от слишком большого количества итераций, если повышать кол-во итераций с определенным шагом растут и предсказания модели ."
   ]
  },
  {
   "cell_type": "markdown",
   "metadata": {},
   "source": [
    "7*Создайте функции eval_LR_model_l1 и eval_LR_model_l2 с применением L1 и L2 регуляризации соответственно."
   ]
  },
  {
   "cell_type": "code",
   "execution_count": 499,
   "metadata": {},
   "outputs": [],
   "source": [
    "def eval_LR_model_l2(X, y, iterations, alpha=1e-4, lambda_=1e-8):\n",
    "    np.random.seed(42)\n",
    "    w = np.random.randn(X.shape[0])\n",
    "    n = X.shape[1]\n",
    "    for i in range(1, iterations + 1):\n",
    "        z = np.dot(w, X)\n",
    "        y_pred = sigmoid(z)\n",
    "        err = calc_logloss(y, y_pred)\n",
    "        errors.append(err)\n",
    "        w -= alpha * (1/n * np.dot((y_pred - y), X.T) + 2 * lambda_ * w)\n",
    "        if i % (iterations / 10) == 0:\n",
    "            print(i, w, err)\n",
    "    return w"
   ]
  },
  {
   "cell_type": "code",
   "execution_count": 500,
   "metadata": {},
   "outputs": [
    {
     "name": "stdout",
     "output_type": "stream",
     "text": [
      "100 [-0.72474744 -0.81673771  1.08694906  1.77555032] 0.23130901329594775\n",
      "200 [-1.36770205 -0.90060174  0.97815068  2.28343615] 0.22180607917051537\n",
      "300 [-1.9144373  -0.93106641  0.80788056  2.65333194] 0.21468585765886\n",
      "400 [-2.38201984 -0.94301758  0.63484822  2.94950284] 0.20895313746367025\n",
      "500 [-2.78355379 -0.94899096  0.47731231  3.19887915] 0.20428062120468793\n",
      "600 [-3.12981692 -0.95344607  0.33938359  3.4143256 ] 0.20044671252787394\n",
      "700 [-3.42972241 -0.95780983  0.22023177  3.60292312] 0.19727364344528348\n",
      "800 [-3.69060731 -0.96240392  0.1175672   3.76918721] 0.19462157542826244\n",
      "900 [-3.91849241 -0.96718729  0.02892688  3.91637691] 0.1923831894462264\n",
      "1000 [-4.11831999 -0.97203157 -0.04790171  4.04704897] 0.19047684438646828\n"
     ]
    },
    {
     "data": {
      "text/plain": [
       "array([-4.11831999, -0.97203157, -0.04790171,  4.04704897])"
      ]
     },
     "execution_count": 500,
     "metadata": {},
     "output_type": "execute_result"
    }
   ],
   "source": [
    "eval_LR_model_l2(X_st, y, iterations=1000, alpha=231e-3, lambda_=1e-3)"
   ]
  },
  {
   "cell_type": "code",
   "execution_count": 501,
   "metadata": {},
   "outputs": [],
   "source": [
    "def eval_LR_model_l1(X, y, iterations, alpha=1e-4, lambda_=1e-8):\n",
    "    np.random.seed(42)\n",
    "    w = np.random.randn(X.shape[0])\n",
    "    n = X.shape[1]\n",
    "    for i in range(1, iterations + 1):\n",
    "        z = np.dot(w, X)\n",
    "        y_pred = sigmoid(z)\n",
    "        err = calc_logloss(y, y_pred)\n",
    "        errors.append(err)\n",
    "        w -= alpha * (1/n * np.dot((y_pred - y), X.T) + lambda_ * np.abs(w))\n",
    "        if i % (iterations / 10) == 0:\n",
    "            print(i, w, err)\n",
    "    return w"
   ]
  },
  {
   "cell_type": "code",
   "execution_count": 502,
   "metadata": {},
   "outputs": [
    {
     "name": "stdout",
     "output_type": "stream",
     "text": [
      "100 [-0.74355353 -0.8306173   1.10451956  1.8073011 ] 0.2312746949060922\n",
      "200 [-1.44078369 -0.92206374  0.99003778  2.35790997] 0.22180236510121273\n",
      "300 [-2.06750124 -0.95657482  0.79662803  2.78072953] 0.21436087058037573\n",
      "400 [-2.63429313 -0.97085077  0.58870777  3.13944254] 0.2080664715613806\n",
      "500 [-3.14941718 -0.97874999  0.38888809  3.46040727] 0.20270401589340717\n",
      "600 [-3.62014913 -0.98551212  0.20416935  3.75570649] 0.19811916919446976\n",
      "700 [-4.0529118  -0.99293975  0.03547775  4.03151212] 0.19416579785851446\n",
      "800 [-4.45365029 -1.00114414 -0.11985461  4.29125883] 0.190646254925356\n",
      "900 [-4.8283754  -1.0095159  -0.26497768  4.53714705] 0.18746673968514221\n",
      "1000 [-5.1808979  -1.01841051 -0.40030443  4.77164806] 0.18460263194808607\n"
     ]
    },
    {
     "data": {
      "text/plain": [
       "array([-5.1808979 , -1.01841051, -0.40030443,  4.77164806])"
      ]
     },
     "execution_count": 502,
     "metadata": {},
     "output_type": "execute_result"
    }
   ],
   "source": [
    "eval_LR_model_l1(X_st, y, iterations=1000, alpha=231e-3, lambda_=1e-3)"
   ]
  },
  {
   "cell_type": "code",
   "execution_count": null,
   "metadata": {},
   "outputs": [],
   "source": []
  },
  {
   "cell_type": "code",
   "execution_count": null,
   "metadata": {},
   "outputs": [],
   "source": []
  }
 ],
 "metadata": {
  "kernelspec": {
   "display_name": "Python 3",
   "language": "python",
   "name": "python3"
  },
  "language_info": {
   "codemirror_mode": {
    "name": "ipython",
    "version": 3
   },
   "file_extension": ".py",
   "mimetype": "text/x-python",
   "name": "python",
   "nbconvert_exporter": "python",
   "pygments_lexer": "ipython3",
   "version": "3.8.3"
  }
 },
 "nbformat": 4,
 "nbformat_minor": 4
}
