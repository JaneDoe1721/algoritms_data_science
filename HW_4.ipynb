{
 "cells": [
  {
   "cell_type": "code",
   "execution_count": 1,
   "metadata": {},
   "outputs": [],
   "source": [
    "import matplotlib.pyplot as plt\n",
    "import random\n",
    "\n",
    "import numpy as np\n",
    "from matplotlib.colors import ListedColormap\n",
    "from sklearn import datasets\n"
   ]
  },
  {
   "cell_type": "code",
   "execution_count": 2,
   "metadata": {},
   "outputs": [],
   "source": [
    "# сгенерируем данные\n",
    "classification_data, classification_labels = datasets.make_classification(n_features = 2, n_informative = 2,\n",
    "                                                                         n_classes = 2, n_redundant=0, \n",
    "                                                                         n_clusters_per_class=1, random_state=15)"
   ]
  },
  {
   "cell_type": "code",
   "execution_count": 3,
   "metadata": {},
   "outputs": [
    {
     "data": {
      "image/png": "[encoded data removed]",
      "text/plain": [
       "<Figure size 576x576 with 1 Axes>"
      ]
     },
     "metadata": {
      "needs_background": "light"
     },
     "output_type": "display_data"
    }
   ],
   "source": [
    "# визуализируем сгенерированные данные\n",
    "\n",
    "colors = ListedColormap(['red', 'blue'])\n",
    "light_colors = ListedColormap(['lightcoral', 'lightblue'])\n",
    "\n",
    "plt.figure(figsize=(8,8))\n",
    "plt.scatter(list(map(lambda x : x[0], classification_data)), list(map(lambda x : x[1], classification_data)),\n",
    "           c=classification_labels, cmap=colors);"
   ]
  },
  {
   "cell_type": "code",
   "execution_count": 48,
   "metadata": {},
   "outputs": [],
   "source": [
    "# Реализуем класс узла\n",
    "\n",
    "class Node:\n",
    "    \n",
    "    def __init__(self, index, t, true_branch, false_branch):\n",
    "        self.index = index  # индекс признака, по которому ведется сравнение с порогом в этом узле\n",
    "        self.t = t  # значение порога\n",
    "        self.true_branch = true_branch   # поддерево, удовлетворяющее условию в узле\n",
    "        self.false_branch = false_branch  # поддерево, не удовлетворяющее условию в узле\n",
    "        "
   ]
  },
  {
   "cell_type": "code",
   "execution_count": 49,
   "metadata": {},
   "outputs": [],
   "source": [
    "# И класс терминального узла (листа)\n",
    "\n",
    "class Leaf:\n",
    "    \n",
    "    def __init__(self, data, labels):\n",
    "        self.data = data\n",
    "        self.labels = labels\n",
    "        self.prediction = self.predict()\n",
    "        \n",
    "    def predict(self):\n",
    "        # подсчет количества объектов разных классов\n",
    "        classes = {}   # сформируем словарь \"класс: количество объектов\"\n",
    "        for label in self.labels:\n",
    "            if label not in classes:\n",
    "                classes[label] = 0\n",
    "            classes[label] += 1\n",
    "         #  найдем класс, количество объектов которого будет максимальным в этом листе и вернем его    \n",
    "        prediction = max(classes, key=classes.get)\n",
    "        return prediction\n",
    "        "
   ]
  },
  {
   "cell_type": "code",
   "execution_count": 50,
   "metadata": {},
   "outputs": [],
   "source": [
    "# Расчет критерия Джини\n",
    "\n",
    "def gini(labels):\n",
    "    #  подсчет количества объектов разных классов\n",
    "    classes = {}\n",
    "    for label in labels:\n",
    "        if label not in classes:\n",
    "            classes[label] = 0\n",
    "        classes[label] += 1\n",
    "        \n",
    "    #  расчет критерия\n",
    "    impurity = 1 \n",
    "    for label in classes:\n",
    "        p = classes[label] / len(labels)\n",
    "        impurity -= p ** 2\n",
    "        \n",
    "    return impurity"
   ]
  },
  {
   "cell_type": "code",
   "execution_count": 51,
   "metadata": {},
   "outputs": [],
   "source": [
    "# Расчет качества\n",
    "\n",
    "def quality(left_labels, right_labels, current_gini):\n",
    "    \n",
    "    # доля выбоки, ушедшая в левое поддерево\n",
    "    p = float(left_labels.shape[0]) / (left_labels.shape[0] + right_labels.shape[0])\n",
    "    \n",
    "    return current_gini - p * gini(left_labels) - (1 - p) * gini(right_labels)"
   ]
  },
  {
   "cell_type": "code",
   "execution_count": 52,
   "metadata": {},
   "outputs": [],
   "source": [
    "# Разбиение датасета в узле\n",
    "\n",
    "def split(data, labels,  index, t):\n",
    "    \n",
    "    left = np.where(data[:, index] <= t)\n",
    "    right = np.where(data[:, index] > t)\n",
    "    \n",
    "    true_data = data[left]\n",
    "    false_data = data[right]\n",
    "    true_labels = labels[left]\n",
    "    false_labels = labels[right]\n",
    "    \n",
    "    return true_data, false_data, true_labels, false_labels"
   ]
  },
  {
   "cell_type": "code",
   "execution_count": 53,
   "metadata": {},
   "outputs": [],
   "source": [
    "# Нахождение наилучшего разбиения\n",
    "\n",
    "def find_best_split(data, labels):\n",
    "    \n",
    "    #  обозначим минимальное количество объектов в узле\n",
    "    min_leaf = 10\n",
    "    \n",
    "    current_gini = gini(labels)\n",
    "    \n",
    "    best_quality = 0 \n",
    "    best_t = None\n",
    "    best_index = None\n",
    "    \n",
    "    n_features = data.shape[1]\n",
    "    \n",
    "    for index in range(n_features):\n",
    "        # будем проверять только уникальные значения признака, исключая повторения\n",
    "        t_value = np.unique([row[index] for row in data])\n",
    "        \n",
    "        for t in t_value:\n",
    "            true_data, false_data, true_labels, false_labels = split(data, labels, index, t)\n",
    "            #  пропускаем разбиения, в которых в узле остается менее 10 объектов\n",
    "            \n",
    "            if len(true_data) < min_leaf or len(false_data) < min_leaf:\n",
    "                continue\n",
    "                \n",
    "            current_quality = quality(true_labels, false_labels, current_gini)\n",
    "            \n",
    "            #  выбираем порог, на котором получается максимальный прирост качества\n",
    "            if current_quality > best_quality:\n",
    "                best_quality, best_t, best_index = current_quality, t, index\n",
    "                \n",
    "    return best_quality, best_t, best_index"
   ]
  },
  {
   "cell_type": "code",
   "execution_count": 54,
   "metadata": {},
   "outputs": [],
   "source": [
    "# Построение дерева с помощью рекурсивной функции\n",
    "\n",
    "def build_tree(data, labels):\n",
    "    \n",
    "    quality, t, index = find_best_split(data, labels)\n",
    "    \n",
    "    #  Базовый случай - прекращаем рекурсию, когда нет прироста в качества\n",
    "    if quality == 0:\n",
    "        return Leaf(data, labels)\n",
    "    \n",
    "    true_data, false_data, true_labels, false_labels = split(data, labels, index, t)\n",
    "    \n",
    "    # Рекурсивно строим два поддерева\n",
    "    true_branch = build_tree(true_data, true_labels)\n",
    "    false_branch = build_tree(false_data, false_labels)\n",
    "    \n",
    "    # Возвращаем класс узла со всеми поддеревьями, то есть целого дерева\n",
    "    return Node(index, t, true_branch, false_branch)"
   ]
  },
  {
   "cell_type": "code",
   "execution_count": 55,
   "metadata": {},
   "outputs": [],
   "source": [
    "def classify_object(obj, node):\n",
    "    \n",
    "    #  Останавливаем рекурсию, если достигли листа\n",
    "    if isinstance(node, Leaf):\n",
    "        answer = node.prediction\n",
    "        return answer\n",
    "    \n",
    "    if obj[node.index] <= node.t:\n",
    "         return classify_object(obj, node.true_branch)\n",
    "    else:\n",
    "        return classify_object(obj, node.false_branch)"
   ]
  },
  {
   "cell_type": "code",
   "execution_count": 56,
   "metadata": {},
   "outputs": [],
   "source": [
    "def predict(data, tree):\n",
    "    \n",
    "    classes = []\n",
    "    \n",
    "    for obj in data:\n",
    "        prediction = classify_object(obj, tree)\n",
    "        classes.append(prediction)\n",
    "    return classes"
   ]
  },
  {
   "cell_type": "code",
   "execution_count": 57,
   "metadata": {},
   "outputs": [],
   "source": [
    "# Разобьем выборку на обучающую и тестовую\n",
    "\n",
    "from sklearn import model_selection\n",
    "\n",
    "train_data, test_data, train_labels, test_labels = model_selection.train_test_split(classification_data, classification_labels,\n",
    "                                                                                   test_size = 0.3, random_state = 1)"
   ]
  },
  {
   "cell_type": "code",
   "execution_count": 58,
   "metadata": {},
   "outputs": [],
   "source": [
    "# Построим дерево по обучающей выборке\n",
    "my_tree = build_tree(train_data, train_labels)"
   ]
  },
  {
   "cell_type": "code",
   "execution_count": 59,
   "metadata": {},
   "outputs": [
    {
     "name": "stdout",
     "output_type": "stream",
     "text": [
      "Индекс: 0\n",
      "Порог: 0.09910021047912587\n",
      " --> True:\n",
      " Индекс: 1\n",
      " Порог: 2.3333100805879567\n",
      "  --> True:\n",
      "  Прогноз: 0\n",
      "  --> False:\n",
      "  Прогноз: 1\n",
      " --> False:\n",
      " Индекс: 0\n",
      " Порог: 0.7802286765985396\n",
      "  --> True:\n",
      "  Прогноз: 1\n",
      "  --> False:\n",
      "  Прогноз: 1\n"
     ]
    }
   ],
   "source": [
    "# Напечатаем ход нашего дерева\n",
    "def print_tree(node, spacing=''):\n",
    "    \n",
    "    # Если лист, то выводим его прогноз\n",
    "    if isinstance(node, Leaf):\n",
    "        print(spacing + 'Прогноз:', node.prediction)\n",
    "        return\n",
    "    \n",
    "    # Выведем значение индекса и порога на этом узле\n",
    "    print(spacing + 'Индекс:', str(node.index))\n",
    "    print(spacing + 'Порог:', str(node.t))\n",
    "    \n",
    "    # Рекурсионный вызов функции на положительном поддереве\n",
    "    print(spacing + ' --> True:')\n",
    "    print_tree(node.true_branch, spacing + ' ')\n",
    "    \n",
    "    # Рекурсионный вызов функции на отрицательном поддереве\n",
    "    print(spacing + ' --> False:')\n",
    "    print_tree(node.false_branch, spacing + ' ')\n",
    "    \n",
    "print_tree(my_tree)"
   ]
  },
  {
   "cell_type": "code",
   "execution_count": 60,
   "metadata": {},
   "outputs": [],
   "source": [
    "# Получим ответы для обучающей выборки \n",
    "train_answer = predict(train_data, my_tree)"
   ]
  },
  {
   "cell_type": "code",
   "execution_count": 61,
   "metadata": {},
   "outputs": [],
   "source": [
    "# И получим ответы для тестовой выборки\n",
    "answer = predict(test_data, my_tree)"
   ]
  },
  {
   "cell_type": "code",
   "execution_count": 62,
   "metadata": {},
   "outputs": [],
   "source": [
    "# Введем функцию подсчета точности как доли правильных ответов\n",
    "def accuracy_metric(actual, predicted):\n",
    "    correct = 0 \n",
    "    for i in range(len(actual)):\n",
    "        if actual[i] == predicted[i]:\n",
    "            correct += 1\n",
    "    return correct / float(len(actual)) * 100"
   ]
  },
  {
   "cell_type": "code",
   "execution_count": 63,
   "metadata": {},
   "outputs": [
    {
     "data": {
      "text/plain": [
       "95.71428571428572"
      ]
     },
     "execution_count": 63,
     "metadata": {},
     "output_type": "execute_result"
    }
   ],
   "source": [
    "# Точность на обучающей выборке\n",
    "\n",
    "train_accuracy = accuracy_metric(train_labels, train_answer)\n",
    "train_accuracy"
   ]
  },
  {
   "cell_type": "code",
   "execution_count": 64,
   "metadata": {},
   "outputs": [
    {
     "data": {
      "text/plain": [
       "93.33333333333333"
      ]
     },
     "execution_count": 64,
     "metadata": {},
     "output_type": "execute_result"
    }
   ],
   "source": [
    "# Точность на тестовой выборке\n",
    "\n",
    "test_accuracy = accuracy_metric(test_labels, answer)\n",
    "test_accuracy"
   ]
  },
  {
   "cell_type": "code",
   "execution_count": 65,
   "metadata": {},
   "outputs": [
    {
     "data": {
      "text/plain": [
       "Text(0.5, 1.0, 'Test accuracy=93.33')"
      ]
     },
     "execution_count": 65,
     "metadata": {},
     "output_type": "execute_result"
    },
    {
     "data": {
      "image/png": "[encoded data removed]",
      "text/plain": [
       "<Figure size 1152x504 with 2 Axes>"
      ]
     },
     "metadata": {
      "needs_background": "light"
     },
     "output_type": "display_data"
    }
   ],
   "source": [
    "# Визуализируем дерево на графике\n",
    "\n",
    "def get_meshgrid(data, step=.05, border=1.2):\n",
    "    x_min, x_max = data[:, 0].min() - border, data[:, 0].max() + border\n",
    "    y_min, y_max = data[:, 1].min() - border, data[:, 1].max() + border\n",
    "    return np.meshgrid(np.arange(x_min, x_max, step), np.arange(y_min, y_max, step))\n",
    "\n",
    "plt.figure(figsize = (16, 7))\n",
    "\n",
    "# график обучающей выборки\n",
    "plt.subplot(1,2,1)\n",
    "xx, yy = get_meshgrid(train_data)\n",
    "mesh_predictions = np.array(predict(np.c_[xx.ravel(), yy.ravel()], my_tree)).reshape(xx.shape)\n",
    "plt.pcolormesh(xx, yy, mesh_predictions, cmap = light_colors)\n",
    "plt.scatter(train_data[:, 0], train_data[:, 1], c = train_labels, cmap = colors)\n",
    "plt.title(f'Train accuracy={train_accuracy:.2f}')\n",
    "\n",
    "# график тестовой выборки\n",
    "plt.subplot(1,2,2)\n",
    "plt.pcolormesh(xx, yy, mesh_predictions, cmap = light_colors)\n",
    "plt.scatter(test_data[:, 0], test_data[:, 1], c = test_labels, cmap = colors)\n",
    "plt.title(f'Test accuracy={test_accuracy:.2f}')"
   ]
  },
  {
   "cell_type": "markdown",
   "metadata": {},
   "source": [
    "2* Реализуйте дерево для задачи регрессии. Возьмите за основу дерево, реализованное в методичке, заменив механизм предсказания в листе на взятие среднего значения по выборке, и критерий Джини на дисперсию значений.\n"
   ]
  },
  {
   "cell_type": "code",
   "execution_count": 178,
   "metadata": {},
   "outputs": [],
   "source": [
    "class DecisionTreeRegressor:\n",
    "\n",
    "    class Node:\n",
    "    \n",
    "        def __init__(self, index, threshold, true_branch, false_branch):\n",
    "            self.index = index  # индекс признака, по которому ведется сравнение с порогом в этом узле\n",
    "            self.threshold = threshold  # значение порога\n",
    "            self.true_branch = true_branch   # поддерево, удовлетворяющее условию в узле\n",
    "            self.false_branch = false_branch  # поддерево, не удовлетворяющее условию в узле\n",
    "            \n",
    "    class Leaf:\n",
    "    \n",
    "        def __init__(self, data, labels):\n",
    "            self.data = data\n",
    "            self.labels = labels\n",
    "            # берем среднее\n",
    "            self.prediction = sum(self.labels) / len(labels)\n",
    "        \n",
    "    def __init__(self, *, max_depth=None, max_features=None, min_split_gain=None, min_leaf_samples=1):\n",
    "        self.max_depth = max_depth\n",
    "        self.max_features = max_features\n",
    "        self.min_split_gain = min_split_gain\n",
    "        self.min_leaf_samples = min_leaf_samples\n",
    "        \n",
    "        self.used_features = set()\n",
    "        \n",
    "        self.tree = None\n",
    "        \n",
    "    def fit(self, data, labels):\n",
    "        self.tree = self.build_tree(np.array(data), np.array(labels))\n",
    "        \n",
    "    # построим дерево с помощью рекурсивной функции\n",
    "    def build_tree(self, data, labels, current_depth=0):\n",
    "        #Прекращаем рекурсию, если достигнута максимальная глубина дерева\n",
    "        if (self.max_depth is not None) and (current_depth == self.max_depth):\n",
    "            return Leaf(data, labels)\n",
    "        \n",
    "        # Находим наилучшее разбиение данных\n",
    "        quality, threshold, index = self.find_best_split(data, labels)\n",
    "        \n",
    "        #прекращаем рекурсию, когда прироста в качестве нет или он меньше заданного\n",
    "        if (quality == 0) or ((self.min_split_gain is not None) and (quality < self.min_leaf_samples)):\n",
    "            return Leaf(data, labels)\n",
    "        print(quality)\n",
    "        \n",
    "        true_data, false_data, true_labels, false_labels = self.split(data, labels, index, threshold)\n",
    "        \n",
    "        if index not in self.used_features:\n",
    "            self.used_features.add(index)\n",
    "            \n",
    "        # рекурсивно строим два поддерева\n",
    "        true_branch = self.build_tree(true_data, true_labels, current_depth + 1)\n",
    "        false_branch = self.build_tree(false_data, false_labels, current_depth + 1)\n",
    "        \n",
    "        # Сохраняем полученное дерево для дальнейших предсказаний\n",
    "        return Node(index, threshold, true_branch, false_branch)\n",
    "    \n",
    "    #нахождение наилучшего разбиения\n",
    "    def find_best_split(self, data, labels):\n",
    "        current_variance = self.variance(labels)\n",
    "        \n",
    "        best_quality = 0\n",
    "        best_threshold = None\n",
    "        best_index = None\n",
    "        \n",
    "        n_features = data.shape[1]\n",
    "        for index in range(n_features):\n",
    "            #Пропускаем признаки, если достигнуто макс кол-во используемых признаков\n",
    "            if (self.max_features is not None) and (index not in self.used_features):\n",
    "                continue\n",
    "                \n",
    "            # будем проверять только уникальные значения признака, исключая повторения \n",
    "            threshold_values = np.unique(data[:, index])\n",
    "            \n",
    "            for threshold in threshold_values:\n",
    "                true_data, false_data, true_labels, false_labels = self.split(data, labels, index, threshold)\n",
    "                # пропускаем разбиения в которых в узле остается менее минимума объекта\n",
    "                if min(len(true_data), len(false_data)) < self.min_leaf_samples:\n",
    "                    continue\n",
    "                    \n",
    "                current_quality = self.quality(true_labels, false_labels, current_variance)\n",
    "                \n",
    "                # выбираем порог, на котором получается максимальный прирост качества \n",
    "                if current_quality > best_quality:\n",
    "                    best_quality, best_threshold, best_index = current_quality, threshold, index\n",
    "        return best_quality, best_threshold, best_index\n",
    "    \n",
    "    # разбиваем датасет в узле\n",
    "    def split(self, data, labels, index, threshold):\n",
    "        true_indexes = np.where(data[:, index] <= threshold)\n",
    "        false_indexes = np.where(data[:, index] > threshold)\n",
    "        return data[true_indexes], data[false_indexes], labels[true_indexes], labels[false_indexes]\n",
    "    \n",
    "    # Расчет качетсва\n",
    "    def quality(self, true_labels, false_labels, current_variance):\n",
    "        #доля выборки, ушедшая в левое поддерево \n",
    "        true_prob = float(true_labels.shape[0]) / (true_labels.shape[0] + false_labels.shape[0])\n",
    "        return current_variance - (true_prob * self.variance(true_labels)) - ((1 - true_prob) * self.variance(false_labels))\n",
    "    \n",
    "    # расчет критерия Джини\n",
    "    def variance(self, labels):\n",
    "        return (1 / labels.shape[0]) * np.sum((labels - np.mean(labels)) ** 2)\n",
    "    \n",
    "    def predict(self, data, tree):\n",
    "        classes = []\n",
    "        # классифицируем каждое наблюдение в полученном датасете \n",
    "        return np.array([self.classify_object(obj, self.tree) for obj in data])\n",
    "        \n",
    "    \n",
    "    def classify_object(self, obj, node):\n",
    "        # останавливаем рекурсию если достигли литса\n",
    "        if isinstance(node, Leaf):\n",
    "            return node.prediction\n",
    "        \n",
    "        if obj[node.index] <= node.t:\n",
    "            return self.classify_object(obj, node.true_branch)\n",
    "        else:\n",
    "            return self.classify_object(obj, node.false_branch)"
   ]
  },
  {
   "cell_type": "markdown",
   "metadata": {},
   "source": [
    "Сгенерируем данные и проверим модель"
   ]
  },
  {
   "cell_type": "code",
   "execution_count": 179,
   "metadata": {},
   "outputs": [],
   "source": [
    "data_reg, labels_reg = datasets.make_regression(n_features=2, n_informative = 2,\n",
    "                                               n_targets = 1, random_state=5)"
   ]
  },
  {
   "cell_type": "code",
   "execution_count": 190,
   "metadata": {},
   "outputs": [],
   "source": [
    "reg_tree = DecisionTreeRegressor(max_depth=5, min_split_gain=50, min_leaf_samples=3)"
   ]
  },
  {
   "cell_type": "code",
   "execution_count": 191,
   "metadata": {},
   "outputs": [
    {
     "name": "stdout",
     "output_type": "stream",
     "text": [
      "2287.2592224630116\n",
      "939.0818353592983\n",
      "845.590364571251\n",
      "138.73379726488838\n",
      "181.84548507960184\n",
      "43.04248957272199\n",
      "200.68570117867233\n",
      "101.22129042908864\n",
      "18.619786245825637\n",
      "165.9871399364257\n",
      "86.93143943286498\n",
      "1086.5108363253012\n",
      "258.87933384551553\n",
      "107.80212390943841\n",
      "48.67207659795886\n",
      "154.5738248097625\n",
      "35.560637219804924\n",
      "562.9341798599567\n",
      "126.59998017054939\n",
      "61.557479948153414\n"
     ]
    }
   ],
   "source": [
    "reg_tree.fit(data_reg, labels_reg)"
   ]
  },
  {
   "cell_type": "code",
   "execution_count": 192,
   "metadata": {},
   "outputs": [],
   "source": [
    "labels_pred = reg_tree.predict(data_reg, reg_tree)"
   ]
  },
  {
   "cell_type": "code",
   "execution_count": 193,
   "metadata": {},
   "outputs": [],
   "source": [
    "def mse(y, y_pred):\n",
    "    return np.sum((y - y_pred) ** 2) / len(y)"
   ]
  },
  {
   "cell_type": "code",
   "execution_count": 194,
   "metadata": {},
   "outputs": [
    {
     "data": {
      "text/plain": [
       "175.10081213265335"
      ]
     },
     "execution_count": 194,
     "metadata": {},
     "output_type": "execute_result"
    }
   ],
   "source": [
    "mse(labels_reg, labels_pred)"
   ]
  },
  {
   "cell_type": "code",
   "execution_count": null,
   "metadata": {},
   "outputs": [],
   "source": []
  },
  {
   "cell_type": "code",
   "execution_count": null,
   "metadata": {},
   "outputs": [],
   "source": []
  }
 ],
 "metadata": {
  "kernelspec": {
   "display_name": "Python 3",
   "language": "python",
   "name": "python3"
  },
  "language_info": {
   "codemirror_mode": {
    "name": "ipython",
    "version": 3
   },
   "file_extension": ".py",
   "mimetype": "text/x-python",
   "name": "python",
   "nbconvert_exporter": "python",
   "pygments_lexer": "ipython3",
   "version": "3.8.3"
  }
 },
 "nbformat": 4,
 "nbformat_minor": 4
}
